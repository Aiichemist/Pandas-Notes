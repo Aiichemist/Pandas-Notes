{
 "cells": [
  {
   "cell_type": "markdown",
   "id": "384bb7fa",
   "metadata": {},
   "source": [
    "# 文件读写\n",
    "\n",
    "## 文件读取"
   ]
  },
  {
   "cell_type": "code",
   "execution_count": 1,
   "id": "41cb4ec3",
   "metadata": {},
   "outputs": [],
   "source": [
    "import numpy as np\n",
    "import pandas as pd"
   ]
  },
  {
   "cell_type": "markdown",
   "id": "b896f7db",
   "metadata": {},
   "source": [
    "### 代码"
   ]
  },
  {
   "cell_type": "code",
   "execution_count": null,
   "id": "6def1ffc",
   "metadata": {},
   "outputs": [],
   "source": [
    "df_csv = pd.read_csv('data/data_csv.csv',header=None,index_col=[])\n",
    "\n",
    "df_txt = pd.read_txt('data/data_txt.txt')\n",
    "\n",
    "df_exc = pd.read_excel('data/data_exc.xlsx')"
   ]
  }
 ],
 "metadata": {
  "kernelspec": {
   "display_name": "Python 3 (ipykernel)",
   "language": "python",
   "name": "python3"
  },
  "language_info": {
   "codemirror_mode": {
    "name": "ipython",
    "version": 3
   },
   "file_extension": ".py",
   "mimetype": "text/x-python",
   "name": "python",
   "nbconvert_exporter": "python",
   "pygments_lexer": "ipython3",
   "version": "3.10.9"
  }
 },
 "nbformat": 4,
 "nbformat_minor": 5
}
